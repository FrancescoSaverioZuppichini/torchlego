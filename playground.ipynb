{
 "cells": [
  {
   "cell_type": "code",
   "execution_count": 22,
   "metadata": {},
   "outputs": [
    {
     "name": "stdout",
     "output_type": "stream",
     "text": [
      "The autoreload extension is already loaded. To reload it, use:\n",
      "  %reload_ext autoreload\n"
     ]
    }
   ],
   "source": [
    "%load_ext autoreload\n",
    "%autoreload 2"
   ]
  },
  {
   "cell_type": "code",
   "execution_count": 23,
   "metadata": {
    "scrolled": true
   },
   "outputs": [],
   "source": [
    "from torchlego.blocks import Lambda, ResidualAdd, ResidualCat\n",
    "import torch.nn as nn\n",
    "from torchsummary import summary\n",
    "import torch\n",
    "from functools import partial"
   ]
  },
  {
   "cell_type": "code",
   "execution_count": 27,
   "metadata": {},
   "outputs": [
    {
     "data": {
      "text/plain": [
       "tensor([1, 1])"
      ]
     },
     "execution_count": 27,
     "metadata": {},
     "output_type": "execute_result"
    }
   ],
   "source": [
    "a = Lambda(lambda x: x)\n",
    "x = torch.tensor([1])\n",
    "ResidualCat([a])(x)"
   ]
  },
  {
   "cell_type": "code",
   "execution_count": null,
   "metadata": {},
   "outputs": [],
   "source": [
    "# down = lambda in_features, out_features: nn.Sequential(\n",
    "#     conv3x3(in_features, in_features),\n",
    "#     conv3x3(in_features, out_features),\n",
    "#     nn.MaxPool2d(out_features)\n",
    "# )\n",
    "\n",
    "# up = lambda in_features, out_features : nn.Sequential(\n",
    "#     conv3x3(in_features, in_features),\n",
    "#     conv3x3(in_features, out_features),\n",
    "#     nn.ConvTranspose2d(out_features, out_features, kernel_size=2)\n",
    "# )\n",
    "\n",
    "# Concat(\n",
    "#     [\n",
    "#         down(64, 128),\n",
    "#         down(128, 256),\n",
    "#         down(256, 512),\n",
    "#         down(512, 1024),\n",
    "#     ],\n",
    "#     [\n",
    "#         up(1024, 512 * 2),\n",
    "#         up(256 * 2, 128),\n",
    "#         up(128 * 2, 64),\n",
    "#         nn.Sequential(\n",
    "#             conv3x3(64), \n",
    "#             conv3x3(64))\n",
    "#     ]\n",
    "# )"
   ]
  },
  {
   "cell_type": "code",
   "execution_count": null,
   "metadata": {},
   "outputs": [],
   "source": []
  }
 ],
 "metadata": {
  "kernelspec": {
   "display_name": "Python 3",
   "language": "python",
   "name": "python3"
  },
  "language_info": {
   "codemirror_mode": {
    "name": "ipython",
    "version": 3
   },
   "file_extension": ".py",
   "mimetype": "text/x-python",
   "name": "python",
   "nbconvert_exporter": "python",
   "pygments_lexer": "ipython3",
   "version": "3.7.5"
  }
 },
 "nbformat": 4,
 "nbformat_minor": 2
}
