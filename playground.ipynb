{
 "cells": [
  {
   "cell_type": "code",
   "execution_count": 251,
   "metadata": {},
   "outputs": [
    {
     "name": "stdout",
     "output_type": "stream",
     "text": [
      "The autoreload extension is already loaded. To reload it, use:\n",
      "  %reload_ext autoreload\n"
     ]
    }
   ],
   "source": [
    "%load_ext autoreload\n",
    "%autoreload 2"
   ]
  },
  {
   "cell_type": "code",
   "execution_count": 252,
   "metadata": {},
   "outputs": [],
   "source": [
    "from lego import *"
   ]
  },
  {
   "cell_type": "code",
   "execution_count": 259,
   "metadata": {},
   "outputs": [
    {
     "data": {
      "text/plain": [
       "4"
      ]
     },
     "execution_count": 259,
     "metadata": {},
     "output_type": "execute_result"
    }
   ],
   "source": [
    "a = Lambda(lambda x: 1)\n",
    "\n",
    "Add([a,a,a,a])(0)"
   ]
  },
  {
   "cell_type": "code",
   "execution_count": 256,
   "metadata": {
    "scrolled": false
   },
   "outputs": [],
   "source": [
    "def resnet_basic_block(in_features, out_features):\n",
    "    return nn.Sequential(\n",
    "        Add([nn.Sequential(\n",
    "        conv3x3_bn_act(in_features, in_features, stride=2, bias=False),\n",
    "        conv3x3_bn(in_features, out_features, bias=False))], \n",
    "            shortcut=nn.Sequential(conv3x3_bn(in_features, out_features, stride=2, bias=False))),\n",
    "        nn.ReLU())\n",
    "\n",
    "ResNet34 = nn.Sequential(\n",
    "    Conv2dPad(3, 64, kernel_size=7, stride=4),\n",
    "    nn.ReLU(),\n",
    "    nn.MaxPool2d(kernel_size=3, padding=1),\n",
    "    resnet_basic_block(64, 128),\n",
    "    resnet_basic_block(128, 256),\n",
    "    resnet_basic_block(256, 512),\n",
    "    nn.AdaptiveAvgPool2d(1),\n",
    "    nn.Flatten(),\n",
    "    nn.Linear(512, 1000)\n",
    ")"
   ]
  },
  {
   "cell_type": "code",
   "execution_count": 257,
   "metadata": {
    "scrolled": false
   },
   "outputs": [
    {
     "data": {
      "text/plain": [
       "torch.Size([1, 1000])"
      ]
     },
     "execution_count": 257,
     "metadata": {},
     "output_type": "execute_result"
    }
   ],
   "source": [
    "x = torch.rand((1,3,224,244))\n",
    "\n",
    "ResNet34(x).shape"
   ]
  },
  {
   "cell_type": "code",
   "execution_count": 173,
   "metadata": {},
   "outputs": [],
   "source": [
    "class ResidualWithShortcut(Residual):\n",
    "    def __init__(self, blocks, shortcut, *args, **kwargs):\n",
    "        super().__init__(*args, **kwargs)\n",
    "        self.blocks = blocks\n",
    "        self.shortcut = shortcut  \n",
    "    \n",
    "    def forward(self, x):\n",
    "        if self.should_apply_shortcut: x = self.shortcut(x)\n",
    "        super().forward(x)\n",
    "        return x\n",
    "    \n",
    "    @property\n",
    "    def should_apply_shortcut(self):\n",
    "        return self.in_channels != self.out_channels"
   ]
  },
  {
   "cell_type": "code",
   "execution_count": 172,
   "metadata": {},
   "outputs": [
    {
     "ename": "TypeError",
     "evalue": "__init__() got an unexpected keyword argument 'mode'",
     "output_type": "error",
     "traceback": [
      "\u001b[1;31m---------------------------------------------------------------------------\u001b[0m",
      "\u001b[1;31mTypeError\u001b[0m                                 Traceback (most recent call last)",
      "\u001b[1;32m<ipython-input-172-4e5d70828067>\u001b[0m in \u001b[0;36m<module>\u001b[1;34m\u001b[0m\n\u001b[1;32m----> 1\u001b[1;33m \u001b[0mResidualBlock\u001b[0m\u001b[1;33m(\u001b[0m\u001b[0ma\u001b[0m\u001b[1;33m,\u001b[0m \u001b[0mmode\u001b[0m\u001b[1;33m=\u001b[0m\u001b[1;34m'add'\u001b[0m\u001b[1;33m)\u001b[0m\u001b[1;33m(\u001b[0m\u001b[0mtorch\u001b[0m\u001b[1;33m.\u001b[0m\u001b[0mtensor\u001b[0m\u001b[1;33m(\u001b[0m\u001b[1;36m2\u001b[0m\u001b[1;33m)\u001b[0m\u001b[1;33m)\u001b[0m\u001b[1;33m\u001b[0m\u001b[1;33m\u001b[0m\u001b[0m\n\u001b[0m",
      "\u001b[1;31mTypeError\u001b[0m: __init__() got an unexpected keyword argument 'mode'"
     ]
    }
   ],
   "source": [
    "ResidualBlock(a, mode='add')(torch.tensor(2))"
   ]
  },
  {
   "cell_type": "code",
   "execution_count": 154,
   "metadata": {
    "scrolled": false
   },
   "outputs": [
    {
     "data": {
      "text/plain": [
       "Concat(\n",
       "\tConv2dPad(3, 64, kernel_size=(3, 3), stride=(1, 1), padding=(1, 1)) -> Conv2dPad(128, 3, kernel_size=(3, 3), stride=(1, 1), padding=(1, 1))\n",
       ")"
      ]
     },
     "execution_count": 154,
     "metadata": {},
     "output_type": "execute_result"
    }
   ],
   "source": [
    "cat = Cat(nn.ModuleList([conv3x3(3, 64)]), nn.ModuleList([conv3x3(64*2, 3)]))\n",
    "\n",
    "# cat(torch.rand((1,3, 224, 224))).shape\n",
    "\n",
    "cat"
   ]
  },
  {
   "cell_type": "code",
   "execution_count": 117,
   "metadata": {},
   "outputs": [],
   "source": [
    "class ResidualBlock(nn.Module):\n",
    "    def __init__(self, in_channels, out_channels, activation='relu'):\n",
    "        super().__init__()\n",
    "        self.in_channels, self.out_channels, self.activation = in_channels, out_channels, activation\n",
    "        self.blocks = nn.Identity()\n",
    "        self.activate = activation_func(activation)\n",
    "        self.shortcut = nn.Identity()   \n",
    "    \n",
    "    def forward(self, x):\n",
    "        residual = x\n",
    "        if self.should_apply_shortcut: residual = self.shortcut(x)\n",
    "        x = self.blocks(x)\n",
    "        x += residual\n",
    "        x = self.activate(x)\n",
    "        return x\n",
    "    \n",
    "    @property\n",
    "    def should_apply_shortcut(self):\n",
    "        return self.in_channels != self.out_channels"
   ]
  },
  {
   "cell_type": "code",
   "execution_count": null,
   "metadata": {},
   "outputs": [],
   "source": []
  },
  {
   "cell_type": "markdown",
   "metadata": {},
   "source": [
    "### Unet"
   ]
  },
  {
   "cell_type": "code",
   "execution_count": 43,
   "metadata": {},
   "outputs": [],
   "source": [
    "down = lambda in_features, out_features: nn.Sequential(\n",
    "    conv3x3(in_features, in_features),\n",
    "    conv3x3(in_features, out_features),\n",
    "    nn.MaxPool2d(out_features)\n",
    ")\n",
    "\n",
    "up = lambda in_features, out_features : nn.Sequential(\n",
    "    conv3x3(in_features, in_features),\n",
    "    conv3x3(in_features, out_features),\n",
    "    nn.ConvTranspose2d(out_features, out_features, kernel_size=2)\n",
    ")\n",
    "\n",
    "Concat(\n",
    "    [\n",
    "        down(64, 128),\n",
    "        down(128, 256),\n",
    "        down(256, 512),\n",
    "        down(512, 1024),\n",
    "    ],\n",
    "    [\n",
    "        up(1024, 512 * 2),\n",
    "        up(256 * 2, 128),\n",
    "        up(128 * 2, 64),\n",
    "        nn.Sequential(\n",
    "            conv3x3(64), \n",
    "            conv3x3(64))\n",
    "    ]\n",
    ")"
   ]
  },
  {
   "cell_type": "code",
   "execution_count": null,
   "metadata": {},
   "outputs": [],
   "source": []
  }
 ],
 "metadata": {
  "kernelspec": {
   "display_name": "Python 3",
   "language": "python",
   "name": "python3"
  },
  "language_info": {
   "codemirror_mode": {
    "name": "ipython",
    "version": 3
   },
   "file_extension": ".py",
   "mimetype": "text/x-python",
   "name": "python",
   "nbconvert_exporter": "python",
   "pygments_lexer": "ipython3",
   "version": "3.7.4"
  }
 },
 "nbformat": 4,
 "nbformat_minor": 2
}
